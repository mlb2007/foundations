{
 "cells": [
  {
   "cell_type": "markdown",
   "metadata": {
    "collapsed": true
   },
   "source": [
    "## Introduction\n",
    "\n",
    "We'll explore how using the pandas plotting functionality along with the Jupyter notebook interface allows us to explore data quickly using visualizations. \n",
    "\n",
    "We'll be working with a dataset on the job outcomes of students who graduated from college between 2010 and 2012. The original data on job outcomes was released by [American Community Survey](https://www.census.gov/programs-surveys/acs/), which conducts surveys and aggregates the data. FiveThirtyEight cleaned the dataset and released it on their [Github repo](https://github.com/fivethirtyeight/data/tree/master/college-majors)."
   ]
  },
  {
   "cell_type": "markdown",
   "metadata": {},
   "source": [
    "## Assignment\n",
    "\n",
    "- Import pandas and matplotlib (remember \"% matplotlib inline\")\n",
    "- Read in the data and explore the head and tail\n",
    "- Drop any rows with missing values"
   ]
  },
  {
   "cell_type": "code",
   "execution_count": null,
   "metadata": {},
   "outputs": [],
   "source": [
    "% matplotlib inline\n",
    "\n",
    "import pandas as pd\n",
    "\n",
    "data = pd.read_csv('recent-grads.csv').dropna()\n",
    "\n",
    "print(data.head(5))\n",
    "print(data.tail(5))\n",
    "print (data.columns)\n"
   ]
  },
  {
   "cell_type": "markdown",
   "metadata": {},
   "source": [
    "## Assignment\n",
    "\n",
    "Feel free to use native panda graphing methods.\n",
    "\n",
    "- Make a scatter plot of sample size vs. median\n",
    "- Make a scatter plot of sample size vs. unemployment rate\n",
    "- Make a scatter plot of full time vs. median\n",
    "- Make a scatter plot of men vs. median\n",
    "- Make a scatter plot of women vs. median\n"
   ]
  },
  {
   "cell_type": "code",
   "execution_count": null,
   "metadata": {},
   "outputs": [],
   "source": [
    "import matplotlib.pyplot as plt\n",
    "\n",
    "plt.figure(figsize=(40,10))\n",
    "# first scatter plot sample_size vs Median\n",
    "x_series = data['Sample_size']\n",
    "y_series = data['Median']\n",
    "plt.subplot(2,3,1)\n",
    "plt.scatter(x_series, y_series)\n",
    "plt.xlabel('Sample_size')\n",
    "plt.ylabel('Median')\n",
    "# plot 2\n",
    "y_series = data['Unemployment_rate']\n",
    "plt.subplot(2,3,2)\n",
    "plt.scatter(x_series, y_series)\n",
    "plt.xlabel('Sample_size')\n",
    "plt.ylabel('Unemployment_rate')\n",
    "# full-time vs median\n",
    "x_series = data['Median']\n",
    "y_series = data['Full_time']\n",
    "plt.subplot(2,3,3)\n",
    "plt.scatter(x_series, y_series)\n",
    "plt.xlabel('Median')\n",
    "plt.ylabel('Full time')\n",
    "# men vs median\n",
    "y_series = data['Men']\n",
    "plt.subplot(2,3,4)\n",
    "plt.scatter(x_series, y_series)\n",
    "plt.xlabel('Median')\n",
    "plt.ylabel('Men')\n",
    "# women vs median\n",
    "y_series = data['Women']\n",
    "plt.subplot(2,3,5)\n",
    "plt.scatter(x_series, y_series)\n",
    "plt.xlabel('Median')\n",
    "plt.ylabel('Women')\n",
    "#finally, show\n",
    "plt.show()"
   ]
  },
  {
   "cell_type": "code",
   "execution_count": null,
   "metadata": {},
   "outputs": [],
   "source": [
    "for index, label in enumerate(['Sample_size', 'Median', 'Employed', 'Full_time', 'Unemployment_rate', 'Men', 'Women']):\n",
    "    plt.figure(figsize=(20,10))\n",
    "    series = data[label]\n",
    "    plt.subplot(2,4,index+1)\n",
    "    plt.hist(series)\n",
    "    plt.xlabel(label)"
   ]
  },
  {
   "cell_type": "markdown",
   "metadata": {},
   "source": [
    "## Assignment\n",
    "\n",
    "- Make a scatter matrix of sample size and median\n",
    "- Make a scatter matrix of sample size, median and unemployment rate\n"
   ]
  },
  {
   "cell_type": "code",
   "execution_count": null,
   "metadata": {
    "scrolled": true
   },
   "outputs": [],
   "source": [
    "from pandas.plotting import scatter_matrix\n",
    "data_sub = data[['Sample_size', 'Median', 'Unemployment_rate']]\n",
    "scatter_matrix(data_sub,figsize=(20,20), alpha=1.0, diagonal='kde', s=100)\n",
    "plt.show()"
   ]
  },
  {
   "cell_type": "markdown",
   "metadata": {},
   "source": [
    "## Assignment\n",
    "\n",
    "- Make a bar plot of majors vs \"ShareWomen\" (you should run different slices since there are many different majors)\n"
   ]
  },
  {
   "cell_type": "code",
   "execution_count": null,
   "metadata": {
    "collapsed": true
   },
   "outputs": [],
   "source": []
  },
  {
   "cell_type": "code",
   "execution_count": null,
   "metadata": {},
   "outputs": [],
   "source": [
    "print(data['Major'].count())\n",
    "for i in range(0, 162, 10):\n",
    "    data_major = data[['Major', 'ShareWomen']].loc[i:i+9]\n",
    "    print(data_major)\n",
    "    subplot = data_major.plot(kind='bar', figsize=(12,10), x='Major')\n",
    "    plt.show()\n"
   ]
  },
  {
   "cell_type": "code",
   "execution_count": null,
   "metadata": {
    "collapsed": true
   },
   "outputs": [],
   "source": []
  },
  {
   "cell_type": "code",
   "execution_count": null,
   "metadata": {
    "collapsed": true
   },
   "outputs": [],
   "source": []
  }
 ],
 "metadata": {
  "anaconda-cloud": {},
  "kernelspec": {
   "display_name": "Python 3",
   "language": "python",
   "name": "python3"
  },
  "language_info": {
   "codemirror_mode": {
    "name": "ipython",
    "version": 3
   },
   "file_extension": ".py",
   "mimetype": "text/x-python",
   "name": "python",
   "nbconvert_exporter": "python",
   "pygments_lexer": "ipython3",
   "version": "3.5.3"
  }
 },
 "nbformat": 4,
 "nbformat_minor": 1
}
