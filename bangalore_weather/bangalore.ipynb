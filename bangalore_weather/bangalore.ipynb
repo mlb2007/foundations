{
 "cells": [
  {
   "cell_type": "markdown",
   "metadata": {},
   "source": [
    "## Data Analysis with pandas\n",
    "\n",
    "We are going to examine data from the [Bangalore Open Data Repository](https://github.com/openbangalore/bangalore). Bangalore is the 3rd most populous city in India and widely regarded as the Silicon Valley of India."
   ]
  },
  {
   "cell_type": "markdown",
   "metadata": {},
   "source": [
    "### Task 1 - Load Data\n",
    "\n",
    "- Read in the data to pandas\n",
    "- Check the shape of the dataframe\n",
    "- Check the summary statistics of the dataframe\n",
    "- Change the row index to the \"Year\" column"
   ]
  },
  {
   "cell_type": "code",
   "execution_count": null,
   "metadata": {},
   "outputs": [],
   "source": [
    "import pandas as pd\n",
    "\n",
    "df = pd.read_csv('bangalore_temparature.tsv', delimiter='\\t')\n",
    "df_r, df_c = df.shape\n",
    "print(df_r, df_c)\n",
    "df.describe()\n",
    "print(df.index)\n",
    "df=df.reset_index()\n",
    "df=df.set_index(df.Year)\n",
    "print(df.index)\n",
    "print(df.columns)\n",
    "print(df.head(4))\n",
    "print(df.dtypes)"
   ]
  },
  {
   "cell_type": "markdown",
   "metadata": {},
   "source": [
    "### Task 2 - Initial Data Analysis\n",
    "\n",
    "- (Chart) How does temperature vary over the year (X-axis is months)?\n",
    "- (Chart) How does temperature vary over the years (X-axis is years)?\n",
    "- What were the highest, lowest and mean values in 1960?\n",
    "- Where were the highest, lowest and mean values in an arbitray year (hint: write a function)?\n",
    "- Which months had the highest and lowest gains in temperature?\n",
    "- Make a histogram, KDE plot and bar plot of the gains."
   ]
  },
  {
   "cell_type": "code",
   "execution_count": null,
   "metadata": {
    "scrolled": true
   },
   "outputs": [],
   "source": [
    "import matplotlib.pyplot as plt\n",
    "\n",
    "dfc = df.copy().drop('Year', axis=1)\n",
    "months = dfc.columns.tolist()[:]\n",
    "\n",
    "def plot_basic_data(dfc):\n",
    "    fig, axes = plt.subplots(2)\n",
    "    fig.tight_layout()\n",
    "    # temp variation over an year\n",
    "    dfc.T.plot(ax=axes[0], figsize=(12,10))\n",
    "    axes[0].set_ylabel('Temperature in c')\n",
    "    axes[0].set_xlabel('Month')\n",
    "    axes[0].legend(bbox_to_anchor=(1.05, 1), loc=2, ncol=5) #2 = upper left\n",
    "    # temp variation over years\n",
    "    dfc.plot(x=df.index, y=months, ax=axes[1], figsize=(12,10))\n",
    "    axes[1].set_ylabel('Temperature in c')\n",
    "    axes[1].legend(bbox_to_anchor=(1.05, 1), loc=2)\n",
    "\n",
    "\n",
    "def high_low_mean_temp(df, year):\n",
    "    high_, low_, mean_ = df.loc[year].max(), df.loc[year].min(), df.loc[year].mean()\n",
    "    return high_, low_, mean_\n",
    "\n",
    "h, l, m = high_low_mean_temp(dfc, 1960)\n",
    "print(\"1960: Highest Temp:{}, Lowest Temp:{}, Mean Temp:{}\".format(h, l, m))\n",
    "h, l, m = high_low_mean_temp(dfc, 1975)\n",
    "print(\"1975: Highest Temp:{}, Lowest Temp:{}, Mean Temp:{}\".format(h, l, m))\n",
    "\n",
    "dfc_diff = dfc.diff(axis=1).dropna(axis=1)#fillna(0)\n",
    "dfc_diff_c = dfc_diff.copy()\n",
    "#dfc_diff_c[dfc_diff_c < 0] = 0\n",
    "\n",
    "max_month, max_temp = dfc_diff_c.max().argmax(), dfc_diff_c.max().max()\n",
    "print(max_month, max_temp)\n",
    "\n",
    "min_month, min_temp = dfc_diff_c[dfc_diff_c > 0].min().argmin(), dfc_diff_c[dfc_diff_c > 0].min().min()\n",
    "print(min_month, min_temp)\n",
    "\n",
    "fig, axes = plt.subplots(3)\n",
    "fig.tight_layout()\n",
    "def gain_plots(dfc_diff_c, kind, ax):\n",
    "     dfc_diff_c.plot(kind=kind, ax=ax, figsize=(18,10))\n",
    "     ax.set_ylabel('Temperature gain/loss in c')\n",
    "     ax.set_xlabel('Month')\n",
    "     ax.legend(bbox_to_anchor=(1.05, 1), loc=2, ncol=5)\n",
    "    \n",
    "gain_plots(dfc_diff, kind='bar', ax=axes[0])    \n",
    "\n",
    "dfc_diff_c.dropna(axis=1)\n",
    "dfc_diff_c.plot.kde(ax=axes[1])\n",
    "dfc_diff_c.plot.hist(ax=axes[2], bins=100)\n",
    "plt.show()"
   ]
  },
  {
   "cell_type": "markdown",
   "metadata": {},
   "source": [
    "### Task 3 - Visualization\n",
    "\n",
    "matplotlib\n",
    "- Make a histogram for a particular month.\n",
    "- Compare distributions for 2 months (histograms on subplots).\n",
    "- Compare two years in the same histogram (use color coding).\n",
    "- Define a function to compare two months in the same frame.\n",
    "- Create a box plot for 1 month.\n",
    "- Create a box plot for 2 months on 1 figure.\n",
    "- Create a function that compares 2 months via boxplot.\n",
    "\n",
    "seaborn\n",
    "- Make a KDE plot of one month.\n",
    "- Make a function that compares the KDE plots of 2 months.\n",
    "- Compare the histogram and KDE plots of 2 months on the same figure.\n",
    "- Create a Facetgrid version of the KDE plots. Loop through a months array.\n",
    "- Create a violin plot for 1 month.\n",
    "- Create a violin plot for 2 months on 1 figure.\n",
    "- Create a function that compares 2 months via violin plot."
   ]
  },
  {
   "cell_type": "code",
   "execution_count": 278,
   "metadata": {},
   "outputs": [
    {
     "data": {
      "image/png": "[encoded data removed]",
      "text/plain": [
       "<matplotlib.figure.Figure at 0x7ff4ec797390>"
      ]
     },
     "metadata": {},
     "output_type": "display_data"
    }
   ],
   "source": [
    "fig, axes = plt.subplots(4)\n",
    "fig.tight_layout()\n",
    "def hist_month_plots(dfc_diff_c, month, ax, bins=5):\n",
    "     dfc_diff_c[month].plot(kind='hist', ax=ax, figsize=(18,10), bins=bins)\n",
    "     ax.set_ylabel('Temperature gain/loss in c')\n",
    "     ax.set_xlabel('Month:{}'.format(month))\n",
    "     ax.legend(bbox_to_anchor=(1.05, 1), loc=2, ncol=5)\n",
    "    \n",
    "hist_month_plots(dfc_diff_c, 'Jun', ax=axes[0], bins=100)    \n",
    "hist_month_plots(dfc_diff_c, 'Apr', ax=axes[1], bins=100)    \n",
    "# try box plot\n",
    "dfc_diff_c[['Jun', 'Apr']].plot.box(ax=axes[2])\n",
    "\n",
    "def hist_year_plots(dfc_diff_c, year, ax, bins=5, color='k'):\n",
    "     dfc_diff_c.loc[year].plot(kind='hist', ax=ax, figsize=(18,10), color=color, bins=bins)\n",
    "     ax.set_ylabel('Temperature gain/loss in c')\n",
    "     ax.set_xlabel('Year:{}'.format(year))\n",
    "     ax.legend(bbox_to_anchor=(1.05, 1), loc=2, ncol=5)\n",
    "\n",
    "hist_year_plots(dfc_diff_c, 1962, ax=axes[3], bins=100)    \n",
    "hist_year_plots(dfc_diff_c, 1975, ax=axes[3], bins=100, color='m')    \n",
    " \n",
    "\n",
    "plt.show()\n"
   ]
  },
  {
   "cell_type": "markdown",
   "metadata": {},
   "source": [
    "### Task 4 - Insight\n",
    "\n",
    "- Visually represent the varying temperatures over the entire period.\n",
    "- Find the coldest and warmest months for May over the entire period."
   ]
  },
  {
   "cell_type": "code",
   "execution_count": null,
   "metadata": {
    "collapsed": true
   },
   "outputs": [],
   "source": []
  }
 ],
 "metadata": {
  "anaconda-cloud": {},
  "kernelspec": {
   "display_name": "Python 3",
   "language": "python",
   "name": "python3"
  },
  "language_info": {
   "codemirror_mode": {
    "name": "ipython",
    "version": 3
   },
   "file_extension": ".py",
   "mimetype": "text/x-python",
   "name": "python",
   "nbconvert_exporter": "python",
   "pygments_lexer": "ipython3",
   "version": "3.5.3"
  }
 },
 "nbformat": 4,
 "nbformat_minor": 1
}
