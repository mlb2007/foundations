{
 "cells": [
  {
   "cell_type": "markdown",
   "metadata": {},
   "source": [
    "## Police Killings\n",
    "\n",
    "The Guardian launched “The Counted,” an impressive interactive database of Americans killed by police since the start of the year. It started in 2015, but you can check the recent stats for 2016. We will explore the data by race, income and state."
   ]
  },
  {
   "cell_type": "markdown",
   "metadata": {},
   "source": [
    "### Assignment\n",
    "\n",
    "- Import the data and examine the head and columns\n",
    "- Get the total counts for each racial grouping\n",
    "- Find the relative % for each racial grouping\n",
    "- How do the killings compare with the overall US breakdown of population by race?"
   ]
  },
  {
   "cell_type": "code",
   "execution_count": 110,
   "metadata": {},
   "outputs": [
    {
     "name": "stdout",
     "output_type": "stream",
     "text": [
      "436 34\n",
      "Index(['name', 'age', 'gender', 'raceethnicity', 'month', 'day', 'year',\n",
      "       'streetaddress', 'city', 'state', 'latitude', 'longitude', 'state_fp',\n",
      "       'county_fp', 'tract_ce', 'geo_id', 'county_id', 'namelsad',\n",
      "       'lawenforcementagency', 'cause', 'armed', 'pop', 'share_white',\n",
      "       'share_black', 'share_hispanic', 'p_income', 'h_income',\n",
      "       'county_income', 'comp_income', 'county_bucket', 'nat_bucket', 'pov',\n",
      "       'urate', 'college'],\n",
      "      dtype='object')\n",
      "Index(['Asian/Pacific Islander', 'Black', 'Hispanic/Latino', 'Native American',\n",
      "       'Unknown', 'White'],\n",
      "      dtype='object')\n",
      "                        raceethnicity\n",
      "White                             216\n",
      "Black                             127\n",
      "Hispanic/Latino                    65\n",
      "Unknown                            14\n",
      "Asian/Pacific Islander             10\n",
      "Native American                     4 \n",
      "                         raceethnicity\n",
      "White                        0.495413\n",
      "Black                        0.291284\n",
      "Hispanic/Latino              0.149083\n",
      "Unknown                      0.032110\n",
      "Asian/Pacific Islander       0.022936\n",
      "Native American              0.009174\n"
     ]
    }
   ],
   "source": [
    "import pandas as pd\n",
    "\n",
    "    \n",
    "df = pd.read_csv('police_killings.csv', encoding='ISO-8859-1').dropna()\n",
    "df_r, df_c = df.shape\n",
    "print(df_r, df_c)\n",
    "print(df.columns)\n",
    "df['raceethnicity'] = df['raceethnicity'].astype('category')\n",
    "races = df.raceethnicity.cat.categories\n",
    "print (races)\n",
    "#df['race_count'] = df.join(df.groupby('raceethnicity')['raceethnicity'].transform(len), rsuffix='_r').head(4))\n",
    "#df['race_count'] = df.groupby('raceethnicity')['raceethnicity'].transform(len)\n",
    "#for race in races:\n",
    "kill_race = (df['raceethnicity'].value_counts())\n",
    "kill_pct = kill_race/df_r\n",
    "print(kill_race.to_frame(), '\\n', kill_pct.to_frame())"
   ]
  },
  {
   "cell_type": "markdown",
   "metadata": {},
   "source": [
    "### Assignment\n",
    "\n",
    "- Graph the killings by race using a bar chart. Make sure to label the graph and axes\n",
    "- Graph the killings by \"p_income\" using a histogram with different bin amounts (remember to remove any \"-\" values)\n",
    "- Calculate the median \"p_income\""
   ]
  },
  {
   "cell_type": "code",
   "execution_count": 156,
   "metadata": {},
   "outputs": [
    {
     "data": {
      "image/png": "[encoded data removed]",
      "text/plain": [
       "<matplotlib.figure.Figure at 0x7f91bdf882e8>"
      ]
     },
     "metadata": {},
     "output_type": "display_data"
    },
    {
     "name": "stdout",
     "output_type": "stream",
     "text": [
      "Median income:22245.0\n"
     ]
    }
   ],
   "source": [
    "import matplotlib.pyplot as plt\n",
    "\n",
    "f, axes = plt.subplots(ncols=2)\n",
    "f.tight_layout()\n",
    "\n",
    "kill_race.plot(kind='bar', ax=axes[0])\n",
    "axes[0].set_ylabel(\"Number\")\n",
    "\n",
    "df['p_income'] = df['p_income'].astype('float')\n",
    "df.p_income.plot(kind='hist', bins=20, ax=axes[1])\n",
    "axes[1].set_ylabel(\"Number\")\n",
    "axes[1].set_xlabel(\"Income\")\n",
    "\n",
    "plt.show()\n",
    "\n",
    "median_income = df.p_income.median()\n",
    "print(\"Median income:{}\".format(median_income))"
   ]
  },
  {
   "cell_type": "markdown",
   "metadata": {},
   "source": [
    "### Assignment\n",
    "\n",
    "- Find the total killings per each state\n",
    "- Create a new dataframe and remove any \"-\" from the following columns \"share_white\", \"share_black\" and \"share_hispanic\" \n",
    "- Convert the values in those columns to float types\n",
    "- Find the mean of 'pop', 'county_income' and those 3 columns for the following subsets\n",
    "    \n",
    "    lowest_states = [\"CT\", \"PA\", \"IA\", \"NY\", \"MA\", \"NH\", \"ME\", \"IL\", \"OH\", \"WI\"]\n",
    "    \n",
    "    highest_states = [\"OK\", \"AZ\", \"NE\", \"HI\", \"AK\", \"ID\", \"NM\", \"LA\", \"CO\", \"DE\"]"
   ]
  },
  {
   "cell_type": "code",
   "execution_count": 184,
   "metadata": {},
   "outputs": [
    {
     "name": "stdout",
     "output_type": "stream",
     "text": [
      "Lowest States:\n",
      "share_white          61.303704\n",
      "share_black          20.107407\n",
      "share_hispanic       13.335185\n",
      "pop                4264.833333\n",
      "county_income     55083.666667\n",
      "dtype: float64\n",
      "\n",
      "Highest States:\n",
      "share_white          54.157317\n",
      "share_black          12.236585\n",
      "share_hispanic       21.673171\n",
      "pop                4243.914634\n",
      "county_income     48860.707317\n",
      "dtype: float64\n"
     ]
    }
   ],
   "source": [
    "killings_per_state = df.state.value_counts()\n",
    "dfC = df.copy()\n",
    "dfC['share_white'] = dfC['share_white'].dropna()\n",
    "dfC[dfC.share_white.isin([\"Unknown\", \"-\"])]\n",
    "float_cols = ['share_white', 'share_black', 'share_hispanic']\n",
    "dfC[float_cols] = dfC[float_cols].astype('float')\n",
    "\n",
    "lowest_states = [\"CT\", \"PA\", \"IA\", \"NY\", \"MA\", \"NH\", \"ME\", \"IL\", \"OH\", \"WI\"]\n",
    "highest_states = [\"OK\", \"AZ\", \"NE\", \"HI\", \"AK\", \"ID\", \"NM\", \"LA\", \"CO\", \"DE\"]\n",
    "float_cols.extend(['pop', 'county_income'])\n",
    "\n",
    "lowest_states_mean = dfC[dfC.state.isin(lowest_states)][float_cols].mean()\n",
    "highest_states_mean = dfC[dfC.state.isin(highest_states)][float_cols].mean()\n",
    "print(\"Lowest States:\\n{}\\n\\nHighest States:\\n{}\".format(lowest_states_mean, highest_states_mean))"
   ]
  },
  {
   "cell_type": "code",
   "execution_count": null,
   "metadata": {
    "collapsed": true
   },
   "outputs": [],
   "source": []
  }
 ],
 "metadata": {
  "anaconda-cloud": {},
  "kernelspec": {
   "display_name": "Python 3",
   "language": "python",
   "name": "python3"
  },
  "language_info": {
   "codemirror_mode": {
    "name": "ipython",
    "version": 3
   },
   "file_extension": ".py",
   "mimetype": "text/x-python",
   "name": "python",
   "nbconvert_exporter": "python",
   "pygments_lexer": "ipython3",
   "version": "3.5.3"
  }
 },
 "nbformat": 4,
 "nbformat_minor": 1
}
