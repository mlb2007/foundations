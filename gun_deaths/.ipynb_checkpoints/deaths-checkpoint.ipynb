{
 "cells": [
  {
   "cell_type": "markdown",
   "metadata": {},
   "source": [
    "## US Gun Deaths Data Set\n",
    "\n",
    "[Original article by FiveThirtyEight about Guns](http://fivethirtyeight.com/features/gun-deaths/)\n",
    "\n",
    "The data set contains cleaned gun-death data from the CDC for 2012-2014."
   ]
  },
  {
   "cell_type": "markdown",
   "metadata": {},
   "source": [
    "### Assignment\n",
    "\n",
    "- Import the csv\n",
    "- Read it into a list\n",
    "- Preview the first 5 entries"
   ]
  },
  {
   "cell_type": "code",
   "execution_count": 20,
   "metadata": {},
   "outputs": [
    {
     "name": "stdout",
     "output_type": "stream",
     "text": [
      "Row[0] = {'education': '4', 'hispanic': '100', 'month': '01', 'sex': 'M', 'intent': 'Suicide', 'id': '1', 'year': '2012', 'police': '0', 'place': 'Home', 'age': '34', 'race': 'Asian/Pacific Islander'}\n",
      "Row[1] = {'education': '3', 'hispanic': '100', 'month': '01', 'sex': 'F', 'intent': 'Suicide', 'id': '2', 'year': '2012', 'police': '0', 'place': 'Street', 'age': '21', 'race': 'White'}\n",
      "Row[2] = {'education': '4', 'hispanic': '100', 'month': '01', 'sex': 'M', 'intent': 'Suicide', 'id': '3', 'year': '2012', 'police': '0', 'place': 'Other specified', 'age': '60', 'race': 'White'}\n",
      "Row[3] = {'education': '4', 'hispanic': '100', 'month': '02', 'sex': 'M', 'intent': 'Suicide', 'id': '4', 'year': '2012', 'police': '0', 'place': 'Home', 'age': '64', 'race': 'White'}\n",
      "Row[4] = {'education': '2', 'hispanic': '100', 'month': '02', 'sex': 'M', 'intent': 'Suicide', 'id': '5', 'year': '2012', 'police': '0', 'place': 'Other specified', 'age': '31', 'race': 'White'}\n",
      "Row[5] = {'education': '1', 'hispanic': '100', 'month': '02', 'sex': 'M', 'intent': 'Suicide', 'id': '6', 'year': '2012', 'police': '0', 'place': 'Home', 'age': '17', 'race': 'Native American/Native Alaskan'}\n",
      "Row[6] = {'education': '2', 'hispanic': '100', 'month': '02', 'sex': 'M', 'intent': 'Undetermined', 'id': '7', 'year': '2012', 'police': '0', 'place': 'Home', 'age': '48', 'race': 'White'}\n",
      "Row[7] = {'education': '2', 'hispanic': '100', 'month': '03', 'sex': 'M', 'intent': 'Suicide', 'id': '8', 'year': '2012', 'police': '0', 'place': 'Home', 'age': '41', 'race': 'Native American/Native Alaskan'}\n",
      "Row[8] = {'education': '3', 'hispanic': '100', 'month': '02', 'sex': 'M', 'intent': 'Accidental', 'id': '9', 'year': '2012', 'police': '0', 'place': 'Other specified', 'age': '50', 'race': 'White'}\n",
      "Row[9] = {'education': '5', 'hispanic': '998', 'month': '02', 'sex': 'M', 'intent': 'Suicide', 'id': '10', 'year': '2012', 'police': '0', 'place': 'Home', 'age': 'NA', 'race': 'Black'}\n"
     ]
    }
   ],
   "source": [
    "import csv\n",
    "\n",
    "def read_input(csvfilename):\n",
    "    with open(csvfilename, newline='') as csvfile:\n",
    "        guns_data_raw = csv.DictReader(csvfile)\n",
    "        headers_raw = guns_data_raw.fieldnames\n",
    "        headers_list = ['id' if h is '' else h for h in headers_raw]\n",
    "        headers = {}\n",
    "        for i, header in enumerate(headers_list):\n",
    "            headers[header] = i\n",
    "        guns_data = list()\n",
    "        for each_row_dict in guns_data_raw:\n",
    "            each_row = {}\n",
    "            for key, value in each_row_dict.items():\n",
    "                if key is '':\n",
    "                    key = 'id'\n",
    "                each_row[key] = value\n",
    "            guns_data.append(each_row)\n",
    "        for i, data in enumerate(guns_data):\n",
    "            if i == 10:\n",
    "                break\n",
    "            print(\"Row[{}] = {}\".format(i, data))\n",
    "        return headers, guns_data\n",
    "\n",
    "guns_data = read_input('guns.csv')       "
   ]
  },
  {
   "cell_type": "markdown",
   "metadata": {},
   "source": [
    "### Assignment\n",
    "\n",
    "- Remove the header row from the list of lists\n",
    "- Save it to a separate list"
   ]
  },
  {
   "cell_type": "code",
   "execution_count": 21,
   "metadata": {},
   "outputs": [
    {
     "name": "stdout",
     "output_type": "stream",
     "text": [
      "{'education': 10, 'sex': 5, 'police': 4, 'intent': 3, 'hispanic': 8, 'id': 0, 'year': 1, 'month': 2, 'place': 9, 'age': 6, 'race': 7}\n"
     ]
    }
   ],
   "source": [
    "print(guns_data[0])"
   ]
  },
  {
   "cell_type": "markdown",
   "metadata": {},
   "source": [
    "### Assignment\n",
    "\n",
    "- Count the number of gun deaths by year\n",
    "    - It may help to do a list comprehension to get the years\n",
    "    - Iterate over the years with a dictionary to keep count\n",
    "    \n",
    "    "
   ]
  },
  {
   "cell_type": "code",
   "execution_count": 47,
   "metadata": {},
   "outputs": [
    {
     "name": "stdout",
     "output_type": "stream",
     "text": [
      "Input key:year [2014]:33599\n",
      "Input key:year [2012]:33563\n",
      "Input key:year [2013]:33636\n"
     ]
    }
   ],
   "source": [
    "def gun_deaths_by_key(hkey, guns_data_all, pred=None):\n",
    "    gun_deaths = {}\n",
    "    guns_data = guns_data_all[1]\n",
    "    for each_row in guns_data:\n",
    "        if pred is None or pred(each_row):\n",
    "            try:\n",
    "                gun_deaths[each_row[hkey]]\n",
    "            except KeyError:\n",
    "                gun_deaths[each_row[hkey]] = 1\n",
    "            else:\n",
    "                gun_deaths[each_row[hkey]] += 1\n",
    "            \n",
    "    for key, value in gun_deaths.items():\n",
    "        print(\"Input key:{} [{}]:{}\".format(hkey, key, value))\n",
    "    return gun_deaths    \n",
    "\n",
    "gun_deaths_by_year = gun_deaths_by_key('year', guns_data)"
   ]
  },
  {
   "cell_type": "markdown",
   "metadata": {},
   "source": [
    "### Assignment\n",
    "\n",
    "- Import the datetime library\n",
    "- Create a new list called \"dates\" with values from the data (set all the day values to 1)    \n",
    "- Count they number of gun deaths by month and year\n",
    "\n"
   ]
  },
  {
   "cell_type": "code",
   "execution_count": 36,
   "metadata": {},
   "outputs": [
    {
     "name": "stdout",
     "output_type": "stream",
     "text": [
      "[2012-02-01]:2357\n",
      "[2014-08-01]:2970\n",
      "[2013-10-01]:2808\n",
      "[2014-11-01]:2756\n",
      "[2013-08-01]:2859\n",
      "[2013-11-01]:2758\n",
      "[2014-05-01]:2864\n",
      "[2014-10-01]:2865\n",
      "[2012-05-01]:2999\n",
      "[2012-09-01]:2852\n",
      "[2012-08-01]:2954\n",
      "[2012-12-01]:2791\n",
      "[2014-02-01]:2361\n",
      "[2013-12-01]:2765\n",
      "[2014-04-01]:2862\n",
      "[2013-02-01]:2375\n",
      "[2013-03-01]:2862\n",
      "[2013-07-01]:3079\n",
      "[2013-06-01]:2920\n",
      "[2012-10-01]:2733\n",
      "[2014-03-01]:2684\n",
      "[2012-01-01]:2758\n",
      "[2014-06-01]:2931\n",
      "[2012-03-01]:2743\n",
      "[2014-12-01]:2857\n",
      "[2012-11-01]:2729\n",
      "[2012-07-01]:3026\n",
      "[2014-09-01]:2914\n",
      "[2014-01-01]:2651\n",
      "[2013-05-01]:2806\n",
      "[2012-06-01]:2826\n",
      "[2014-07-01]:2884\n",
      "[2013-04-01]:2798\n",
      "[2013-09-01]:2742\n",
      "[2013-01-01]:2864\n",
      "[2012-04-01]:2795\n"
     ]
    }
   ],
   "source": [
    "import time\n",
    "from datetime import date\n",
    "\n",
    "def gun_deaths_by_date(guns_data_all):\n",
    "    gun_deaths = {}\n",
    "    guns_data = guns_data_all[1]\n",
    "    month_key = 'month'\n",
    "    year_key = 'year'\n",
    "    day = 1\n",
    "    for each_row in guns_data:\n",
    "        curr_date = date(int(each_row[year_key]), int(each_row[month_key]), day)\n",
    "        try:\n",
    "            gun_deaths[curr_date]\n",
    "        except KeyError:\n",
    "            gun_deaths[curr_date] = 1\n",
    "        else:\n",
    "            gun_deaths[curr_date] += 1\n",
    "            \n",
    "    for key, value in gun_deaths.items():\n",
    "        print(\"[{}]:{}\".format(key, value))\n",
    "    return gun_deaths \n",
    "\n",
    "gun_deaths_by_month = gun_deaths_by_date(guns_data)"
   ]
  },
  {
   "cell_type": "markdown",
   "metadata": {},
   "source": [
    "### Assignment\n",
    "\n",
    "- Find the number of gun deaths by Sex\n",
    "- Find the number of gun deaths by Race\n",
    "- How does this compare to the overall population in the US?"
   ]
  },
  {
   "cell_type": "code",
   "execution_count": 30,
   "metadata": {},
   "outputs": [
    {
     "name": "stdout",
     "output_type": "stream",
     "text": [
      "Input key:sex [M]:86349\n",
      "Input key:sex [F]:14449\n",
      "Input key:race [Black]:23296\n",
      "Input key:race [Native American/Native Alaskan]:917\n",
      "Input key:race [White]:66237\n",
      "Input key:race [Hispanic]:9022\n",
      "Input key:race [Asian/Pacific Islander]:1326\n"
     ]
    }
   ],
   "source": [
    "gun_deaths_by_sex = gun_deaths_by_key('sex', guns_data)\n",
    "gun_deaths_by_race = gun_deaths_by_key('race', guns_data)"
   ]
  },
  {
   "cell_type": "markdown",
   "metadata": {},
   "source": [
    "### Assignment\n",
    "\n",
    "- Reuse the data structure counting deaths by race\n",
    "- Use the dictionary below that has the actual population of each race\n",
    "- Compute the rates of gun deaths per race per 100,000 people\n",
    "\n",
    "mapping = {\n",
    "    \"Asian/Pacific Islander\": 15159516 + 674625,\n",
    "    \"Native American/Native Alaskan\": 3739506,\n",
    "    \"Black\": 40250635,\n",
    "    \"Hispanic\": 44618105,\n",
    "    \"White\": 197318956\n",
    "}"
   ]
  },
  {
   "cell_type": "code",
   "execution_count": 45,
   "metadata": {},
   "outputs": [
    {
     "name": "stdout",
     "output_type": "stream",
     "text": [
      "Input key:race [Black]:23296\n",
      "Input key:race [Native American/Native Alaskan]:917\n",
      "Input key:race [White]:66237\n",
      "Input key:race [Hispanic]:9022\n",
      "Input key:race [Asian/Pacific Islander]:1326\n",
      "[Black] = 57\n",
      "[Native American/Native Alaskan] = 24\n",
      "[White] = 33\n",
      "[Hispanic] = 20\n",
      "[Asian/Pacific Islander] = 8\n"
     ]
    }
   ],
   "source": [
    "mapping = { \"Asian/Pacific Islander\": 15159516 + 674625, \n",
    "            \"Native American/Native Alaskan\": 3739506, \n",
    "            \"Black\": 40250635, \n",
    "            \"Hispanic\": 44618105, \n",
    "            \"White\": 197318956 \n",
    "           }\n",
    "gun_deaths_by_race = gun_deaths_by_key('race', guns_data)\n",
    "gun_deaths_by_race_percent = {}\n",
    "for key, value in gun_deaths_by_race.items():\n",
    "    deaths_per_100k = int((float(value)/mapping[key])*1e5)\n",
    "    gun_deaths_by_race_percent[key] = deaths_per_100k\n",
    "    print(\"[{}] = {}\".format(key, deaths_per_100k))\n",
    "    "
   ]
  },
  {
   "cell_type": "markdown",
   "metadata": {},
   "source": [
    "### Assignment\n",
    "\n",
    "You may not know this, but over half of all gun deaths are suicide.\n",
    "\n",
    "- Redo the computation of rates of gun deaths per race per 100,000 people\n",
    "- This time only count those that are \"Homicide\"\n",
    "- How are these different than the previous calculation?\n"
   ]
  },
  {
   "cell_type": "code",
   "execution_count": 58,
   "metadata": {},
   "outputs": [
    {
     "name": "stdout",
     "output_type": "stream",
     "text": [
      "Input key:race [Black]:19510\n",
      "Input key:race [Native American/Native Alaskan]:326\n",
      "Input key:race [White]:9147\n",
      "Input key:race [Hispanic]:5634\n",
      "Input key:race [Asian/Pacific Islander]:559\n",
      "[Black]-Homicide = 48\n",
      "[Native American/Native Alaskan]-Homicide = 8\n",
      "[White]-Homicide = 4\n",
      "[Hispanic]-Homicide = 12\n",
      "[Asian/Pacific Islander]-Homicide = 3\n"
     ]
    }
   ],
   "source": [
    "def filter_by_homicide(each_row):\n",
    "    try:\n",
    "        each_row['intent']\n",
    "    except:\n",
    "        return False\n",
    "    else:\n",
    "        return each_row['intent'].strip() == 'Homicide'\n",
    "    \n",
    "gun_deaths_by_race = gun_deaths_by_key('race', guns_data, filter_by_homicide)\n",
    "gun_deaths_by_race_percent = {}\n",
    "for key, value in gun_deaths_by_race.items():\n",
    "    deaths_per_100k = int((float(value)/mapping[key])*1e5)\n",
    "    gun_deaths_by_race_percent[key] = deaths_per_100k\n",
    "    print(\"[{}]-Homicide = {}\".format(key, deaths_per_100k))\n",
    "        "
   ]
  },
  {
   "cell_type": "code",
   "execution_count": null,
   "metadata": {
    "collapsed": true
   },
   "outputs": [],
   "source": []
  },
  {
   "cell_type": "code",
   "execution_count": null,
   "metadata": {
    "collapsed": true
   },
   "outputs": [],
   "source": []
  }
 ],
 "metadata": {
  "anaconda-cloud": {},
  "kernelspec": {
   "display_name": "Python 3",
   "language": "python",
   "name": "python3"
  },
  "language_info": {
   "codemirror_mode": {
    "name": "ipython",
    "version": 3
   },
   "file_extension": ".py",
   "mimetype": "text/x-python",
   "name": "python",
   "nbconvert_exporter": "python",
   "pygments_lexer": "ipython3",
   "version": "3.5.3"
  }
 },
 "nbformat": 4,
 "nbformat_minor": 1
}
