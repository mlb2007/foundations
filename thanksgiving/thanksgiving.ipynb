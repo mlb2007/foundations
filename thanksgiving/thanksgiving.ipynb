{
 "cells": [
  {
   "cell_type": "markdown",
   "metadata": {},
   "source": [
    "## Data Analysis with pandas\n",
    "\n",
    "Each survey respondent was asked questions about what they typically eat for Thanksgiving, along with some demographic questions, like their gender, income, and location. This dataset will allow us to discover regional and income-based patterns in what Americans eat for Thanksgiving dinner.\n",
    "\n",
    "Using this Thanksgiving survey data, we can answer quite a few interesting questions, like:\n",
    "\n",
    "- Do people in Suburban areas eat more Tofurkey than people in Rural areas?\n",
    "- Where do people go to Black Friday sales most often?\n",
    "- Is there a correlation between praying on Thanksgiving and income?\n",
    "- What income groups are most likely to have homemade cranberry sauce?"
   ]
  },
  {
   "cell_type": "markdown",
   "metadata": {},
   "source": [
    "### Task 1 - Load Data\n",
    "\n",
    "- Read about the [data set](https://github.com/fivethirtyeight/data/tree/master/thanksgiving-2015)\n",
    "- Read in the data to pandas\n",
    "- Check the shape of the dataframe and examine the different columns\n",
    "- Check the summary statistics of the dataframe"
   ]
  },
  {
   "cell_type": "code",
   "execution_count": 61,
   "metadata": {},
   "outputs": [
    {
     "name": "stdout",
     "output_type": "stream",
     "text": [
      "1058 65\n",
      "Index(['RespondentID', 'Do you celebrate Thanksgiving?',\n",
      "       'What is typically the main dish at your Thanksgiving dinner?',\n",
      "       'What is typically the main dish at your Thanksgiving dinner? - Other (please specify)',\n",
      "       'How is the main dish typically cooked?',\n",
      "       'How is the main dish typically cooked? - Other (please specify)',\n",
      "       'What kind of stuffing/dressing do you typically have?',\n",
      "       'What kind of stuffing/dressing do you typically have? - Other (please specify)',\n",
      "       'What type of cranberry saucedo you typically have?',\n",
      "       'What type of cranberry saucedo you typically have? - Other (please specify)',\n",
      "       'Do you typically have gravy?',\n",
      "       'Which of these side dishes aretypically served at your Thanksgiving dinner? Please select all that apply. - Brussel sprouts',\n",
      "       'Which of these side dishes aretypically served at your Thanksgiving dinner? Please select all that apply. - Carrots',\n",
      "       'Which of these side dishes aretypically served at your Thanksgiving dinner? Please select all that apply. - Cauliflower',\n",
      "       'Which of these side dishes aretypically served at your Thanksgiving dinner? Please select all that apply. - Corn',\n",
      "       'Which of these side dishes aretypically served at your Thanksgiving dinner? Please select all that apply. - Cornbread',\n",
      "       'Which of these side dishes aretypically served at your Thanksgiving dinner? Please select all that apply. - Fruit salad',\n",
      "       'Which of these side dishes aretypically served at your Thanksgiving dinner? Please select all that apply. - Green beans/green bean casserole',\n",
      "       'Which of these side dishes aretypically served at your Thanksgiving dinner? Please select all that apply. - Macaroni and cheese',\n",
      "       'Which of these side dishes aretypically served at your Thanksgiving dinner? Please select all that apply. - Mashed potatoes',\n",
      "       'Which of these side dishes aretypically served at your Thanksgiving dinner? Please select all that apply. - Rolls/biscuits',\n",
      "       'Which of these side dishes aretypically served at your Thanksgiving dinner? Please select all that apply. - Squash',\n",
      "       'Which of these side dishes aretypically served at your Thanksgiving dinner? Please select all that apply. - Vegetable salad',\n",
      "       'Which of these side dishes aretypically served at your Thanksgiving dinner? Please select all that apply. - Yams/sweet potato casserole',\n",
      "       'Which of these side dishes aretypically served at your Thanksgiving dinner? Please select all that apply. - Other (please specify)',\n",
      "       'Which of these side dishes aretypically served at your Thanksgiving dinner? Please select all that apply. - Other (please specify).1',\n",
      "       'Which type of pie is typically served at your Thanksgiving dinner? Please select all that apply. - Apple',\n",
      "       'Which type of pie is typically served at your Thanksgiving dinner? Please select all that apply. - Buttermilk',\n",
      "       'Which type of pie is typically served at your Thanksgiving dinner? Please select all that apply. - Cherry',\n",
      "       'Which type of pie is typically served at your Thanksgiving dinner? Please select all that apply. - Chocolate',\n",
      "       'Which type of pie is typically served at your Thanksgiving dinner? Please select all that apply. - Coconut cream',\n",
      "       'Which type of pie is typically served at your Thanksgiving dinner? Please select all that apply. - Key lime',\n",
      "       'Which type of pie is typically served at your Thanksgiving dinner? Please select all that apply. - Peach',\n",
      "       'Which type of pie is typically served at your Thanksgiving dinner? Please select all that apply. - Pecan',\n",
      "       'Which type of pie is typically served at your Thanksgiving dinner? Please select all that apply. - Pumpkin',\n",
      "       'Which type of pie is typically served at your Thanksgiving dinner? Please select all that apply. - Sweet Potato',\n",
      "       'Which type of pie is typically served at your Thanksgiving dinner? Please select all that apply. - None',\n",
      "       'Which type of pie is typically served at your Thanksgiving dinner? Please select all that apply. - Other (please specify)',\n",
      "       'Which type of pie is typically served at your Thanksgiving dinner? Please select all that apply. - Other (please specify).1',\n",
      "       'Which of these desserts do you typically have at Thanksgiving dinner? Please select all that apply.   - Apple cobbler',\n",
      "       'Which of these desserts do you typically have at Thanksgiving dinner? Please select all that apply.   - Blondies',\n",
      "       'Which of these desserts do you typically have at Thanksgiving dinner? Please select all that apply.   - Brownies',\n",
      "       'Which of these desserts do you typically have at Thanksgiving dinner? Please select all that apply.   - Carrot cake',\n",
      "       'Which of these desserts do you typically have at Thanksgiving dinner? Please select all that apply.   - Cheesecake',\n",
      "       'Which of these desserts do you typically have at Thanksgiving dinner? Please select all that apply.   - Cookies',\n",
      "       'Which of these desserts do you typically have at Thanksgiving dinner? Please select all that apply.   - Fudge',\n",
      "       'Which of these desserts do you typically have at Thanksgiving dinner? Please select all that apply.   - Ice cream',\n",
      "       'Which of these desserts do you typically have at Thanksgiving dinner? Please select all that apply.   - Peach cobbler',\n",
      "       'Which of these desserts do you typically have at Thanksgiving dinner? Please select all that apply.   - None',\n",
      "       'Which of these desserts do you typically have at Thanksgiving dinner? Please select all that apply.   - Other (please specify)',\n",
      "       'Which of these desserts do you typically have at Thanksgiving dinner? Please select all that apply.   - Other (please specify).1',\n",
      "       'Do you typically pray before or after the Thanksgiving meal?',\n",
      "       'How far will you travel for Thanksgiving?',\n",
      "       'Will you watch any of the following programs on Thanksgiving? Please select all that apply. - Macy's Parade',\n",
      "       'What's the age cutoff at your \"kids' table\" at Thanksgiving?',\n",
      "       'Have you ever tried to meet up with hometown friends on Thanksgiving night?',\n",
      "       'Have you ever attended a \"Friendsgiving?\"',\n",
      "       'Will you shop any Black Friday sales on Thanksgiving Day?',\n",
      "       'Do you work in retail?',\n",
      "       'Will you employer make you work on Black Friday?',\n",
      "       'How would you describe where you live?', 'Age', 'What is your gender?',\n",
      "       'How much total combined money did all members of your HOUSEHOLD earn last year?',\n",
      "       'US Region'],\n",
      "      dtype='object')\n"
     ]
    }
   ],
   "source": [
    "import pandas as pd\n",
    "import numpy as np\n",
    "\n",
    "df = pd.read_csv('thanksgiving.csv', encoding ='Latin-1')\n",
    "df_r, df_c = df.shape\n",
    "print (df_r, df_c)\n",
    "#print(df.head(5))\n",
    "print (df.columns)\n",
    "#print (df.index) \n",
    "#print (df.dtypes)\n",
    "#df.describe(exclude=[np.number])"
   ]
  },
  {
   "cell_type": "markdown",
   "metadata": {},
   "source": [
    "### Task 2 - Initial Data Analysis\n",
    "\n",
    "- Create a new dataframe that only includes people that celebrate Thanksgiving\n",
    "- Find out what the most popular main dish is.\n",
    "- Do people who eat Tofurkey also have gravy as a side dish (calculate proportions)?\n",
    "- What is the most popular pie?\n",
    "- How many pies are eaten other than Apple, Pecan and Pumpkin?\n",
    "- Look at the age distribution.\n",
    "- Write a function that approximates each respondent's age given the ranges and apply it to all cells (remember type conversion).\n",
    "- Examine the summary statistics of the age column now.\n",
    "- Look at the income distribution.\n",
    "- Write a function that approximates each respondent's income given the ranges and apply it to all cells (remember type conversion).\n",
    "- Examine the summary statistics of the income column now.\n",
    "- Look at the distance traveled for lower income (< 50,000) vs. higher income (>150,000) respondents.\n",
    "- Use the pivot_table function to examine what ages and incomes are more likely to \"attend a Friendsgiving\" or \"meetup with hometown friends.\n"
   ]
  },
  {
   "cell_type": "code",
   "execution_count": 59,
   "metadata": {},
   "outputs": [
    {
     "name": "stdout",
     "output_type": "stream",
     "text": [
      "Most popular main dish: Turkey  votes: 859\n",
      "Proportion of people who eat Tofurkey and gravy = 60.0%\n"
     ]
    }
   ],
   "source": [
    "df_t = df[df['Do you celebrate Thanksgiving?'] == 'Yes'].copy()\n",
    "\n",
    "main_dish_str =  'What is typically the main dish at your Thanksgiving dinner?' \n",
    "main_dish_other_str =  'What is typically the main dish at your Thanksgiving dinner? - Other (please specify)' \n",
    "gravy_str = \"Do you typically have gravy?\"\n",
    "\n",
    "df_t[main_dish_other_str] =  df_t[main_dish_other_str].map({'Other (please specify)':np.NaN})\n",
    "df_t.dropna(axis=1)\n",
    "maindish = df_t[[main_dish_str, main_dish_other_str]]\n",
    "\n",
    "#print(maindish)\n",
    "value = maindish[main_dish_str].value_counts().argmax()\n",
    "key = maindish[main_dish_str].value_counts().max()\n",
    "print(\"Most popular main dish:\", value, \" votes:\", key)\n",
    "\n",
    "# cleaning up data using map, an example\n",
    "#df['How much total combined money did all members of your HOUSEHOLD earn last year?'] = \\\n",
    "#df['How much total combined money did all members of your HOUSEHOLD earn last year?'].\\\n",
    "#map(lambda x: x.replace('$','').replace('Prefer not to answer', 'NaN').replace('to', '-').replace(',','').\\\n",
    "#    replace('and up', '+').strip())\n",
    "\n",
    "# convert to category\n",
    "to_cat_columns = df.select_dtypes(['object']).columns\n",
    "df[to_cat_columns] = df[to_cat_columns].apply(lambda s: s.astype('category'))\n",
    "\n",
    "#df['How much total combined money did all members of your HOUSEHOLD earn last year?'] = \\\n",
    "#df['How much total combined money did all members of your HOUSEHOLD earn last year?'].astype('float64')\n",
    "\n",
    "# pivot table ..\n",
    "pd.pivot_table(df, index=['Age', 'What is your gender?'])\n",
    "\n",
    "# find people who eat tofurkey and for that ask if they use gravy, collect answer as yes/no, then find\n",
    "# how many yes in total ..\n",
    "df_t['tfk'] = df_t[main_dish_str].apply(lambda x: 1 if x == \"Tofurkey\" else 0).astype('Int64')\n",
    "df_t['gravy'] = df_t[gravy_str].apply(lambda x: 1 if x == \"Yes\" else 0).astype('Int64')\n",
    "df_t['tfk_gravy'] = df_t.tfk & df_t.gravy\n",
    "print(\"Proportion of people who eat Tofurkey and gravy = {}%\".format(df_t['tfk_gravy'].sum()*100/df_t['tfk'].sum()))\n",
    "\n",
    "#df_t_grav = df_grav[df_grav[gravy_str] == 1 & df_grav[main_dis_str] == 1]\n",
    "#df_tfk_gra = df_tfk[df_tfk[gravy_str] == \"Yes\"]\n",
    "#print(df_tfk_gra[gravy_str].map\n",
    "\n"
   ]
  },
  {
   "cell_type": "markdown",
   "metadata": {},
   "source": [
    "### Task 3 - Visualization\n",
    "\n",
    "matplotlib\n",
    "- Use groupby to examine the breakdown of income by type of cranberry sauce\n",
    "- Use agg to compute the mean and plot the results in a bar chart\n",
    "- Use agg to find the average income of people who eat \"Homemade\" cranberry sauce and \"Tofurkey\"\n",
    "- Choose an appropriate plot or chart to visualize the results"
   ]
  },
  {
   "cell_type": "code",
   "execution_count": null,
   "metadata": {
    "collapsed": true
   },
   "outputs": [],
   "source": []
  }
 ],
 "metadata": {
  "anaconda-cloud": {},
  "kernelspec": {
   "display_name": "Python 3",
   "language": "python",
   "name": "python3"
  },
  "language_info": {
   "codemirror_mode": {
    "name": "ipython",
    "version": 3
   },
   "file_extension": ".py",
   "mimetype": "text/x-python",
   "name": "python",
   "nbconvert_exporter": "python",
   "pygments_lexer": "ipython3",
   "version": "3.5.3"
  }
 },
 "nbformat": 4,
 "nbformat_minor": 1
}
