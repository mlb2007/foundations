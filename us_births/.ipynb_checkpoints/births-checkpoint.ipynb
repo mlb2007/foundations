{
 "cells": [
  {
   "cell_type": "markdown",
   "metadata": {
    "collapsed": true
   },
   "source": [
    "## US Birth Data Set\n",
    "\n",
    "[Original article by FiveThirtyEight about Friday the 13th](http://fivethirtyeight.com/features/some-people-are-too-superstitious-to-have-a-baby-on-friday-the-13th/)\n",
    "\n",
    "The data set contains U.S. births data for the years 1994 to 2003, as provided by the Centers for Disease Control and Prevention's National Center for Health Statistics"
   ]
  },
  {
   "cell_type": "markdown",
   "metadata": {},
   "source": [
    "### Assignment\n",
    "\n",
    "- Open the CSV and split based on new lines\n",
    "- Preview the first 10 entries"
   ]
  },
  {
   "cell_type": "code",
   "execution_count": 3,
   "metadata": {},
   "outputs": [
    {
     "name": "stdout",
     "output_type": "stream",
     "text": [
      "['1994,1,1,6,8096']\n",
      "['1994,1,2,7,7772']\n",
      "['1994,1,3,1,10142']\n",
      "['1994,1,4,2,11248']\n",
      "['1994,1,5,3,11053']\n",
      "['1994,1,6,4,11406']\n",
      "['1994,1,7,5,11251']\n",
      "['1994,1,8,6,8653']\n",
      "['1994,1,9,7,7910']\n"
     ]
    }
   ],
   "source": [
    "import csv\n",
    "\n",
    "with open('us_births.csv', 'r') as csvfile:\n",
    "    births_data_raw = csv.reader(csvfile, delimiter=' ')\n",
    "    birth_data = list()\n",
    "    for i, each_row in enumerate(births_data_raw):\n",
    "        # field names ignored\n",
    "        if i == 0:\n",
    "            continue\n",
    "        if i == 10:\n",
    "            break\n",
    "        print(each_row)          "
   ]
  },
  {
   "cell_type": "markdown",
   "metadata": {},
   "source": [
    "### Assignment\n",
    "\n",
    "- Create a function that takes in a CSV and converts the data into a list of lists\n",
    "    - Each row will be a list\n",
    "    - Make sure to convert the values to int\n",
    "    - Return the final list of lists\n",
    "- Preview the first 10 entries of the output"
   ]
  },
  {
   "cell_type": "code",
   "execution_count": 9,
   "metadata": {},
   "outputs": [
    {
     "name": "stdout",
     "output_type": "stream",
     "text": [
      "Row[0] = [1994, 1, 1, 6, 8096]\n",
      "Row[1] = [1994, 1, 2, 7, 7772]\n",
      "Row[2] = [1994, 1, 3, 1, 10142]\n",
      "Row[3] = [1994, 1, 4, 2, 11248]\n",
      "Row[4] = [1994, 1, 5, 3, 11053]\n",
      "Row[5] = [1994, 1, 6, 4, 11406]\n",
      "Row[6] = [1994, 1, 7, 5, 11251]\n",
      "Row[7] = [1994, 1, 8, 6, 8653]\n",
      "Row[8] = [1994, 1, 9, 7, 7910]\n",
      "Row[9] = [1994, 1, 10, 1, 10498]\n"
     ]
    }
   ],
   "source": [
    "import csv\n",
    "\n",
    "with open('us_births.csv', 'r') as csvfile:\n",
    "    births_data_raw = csv.reader(csvfile, delimiter=' ')\n",
    "    birth_data = list()\n",
    "    headers = {}\n",
    "    for i, each_row in enumerate(births_data_raw):\n",
    "        # field names ignored\n",
    "        if i == 0:\n",
    "            headers_keys = each_row[0].split(',')\n",
    "            for index, key in enumerate(headers_keys):\n",
    "                headers[key] = index\n",
    "            continue\n",
    "        each_row_str = each_row[0]\n",
    "        row_data = [int(x) for x in each_row_str.split(',')]\n",
    "        birth_data.append(row_data)\n",
    "    for i, data in enumerate(birth_data):\n",
    "        if i == 10:\n",
    "            break\n",
    "        print(\"Row[{}] = {}\".format(i, data))  \n",
    "        \n",
    "        "
   ]
  },
  {
   "cell_type": "markdown",
   "metadata": {},
   "source": [
    "### Assignment\n",
    "\n",
    "- Create a function that calculates the number of births each month\n",
    "    - The function input should be the previous list of lists you created\n",
    "    - Use a dictionary and increment the values associated with each month key\n",
    "    - Return the final dictionary\n",
    "- Preview the output"
   ]
  },
  {
   "cell_type": "code",
   "execution_count": 35,
   "metadata": {},
   "outputs": [
    {
     "name": "stdout",
     "output_type": "stream",
     "text": [
      "month[1]:3232517\n",
      "month[2]:3018140\n",
      "month[3]:3322069\n",
      "month[4]:3185314\n",
      "month[5]:3350907\n",
      "month[6]:3296530\n",
      "month[7]:3498783\n",
      "month[8]:3525858\n",
      "month[9]:3439698\n",
      "month[10]:3378814\n",
      "month[11]:3171647\n",
      "month[12]:3301860\n"
     ]
    }
   ],
   "source": [
    "import csv\n",
    "\n",
    "def read_csv(filename):\n",
    "    with open(filename, 'r') as csvfile:\n",
    "        births_data_raw = csv.reader(csvfile, delimiter=' ')\n",
    "        birth_data = list()\n",
    "        headers = {}\n",
    "        for i, each_row in enumerate(births_data_raw):\n",
    "            # field names ignored\n",
    "            if i == 0:\n",
    "                headers_keys = each_row[0].split(',')\n",
    "                for index, key in enumerate(headers_keys):\n",
    "                    headers[key] = index\n",
    "                continue\n",
    "            each_row_str = each_row[0]\n",
    "            row_data = [int(x) for x in each_row_str.split(',')]\n",
    "            birth_data.append(row_data)\n",
    "        for i, data in enumerate(birth_data):\n",
    "            if i == 10:\n",
    "                break\n",
    "        return headers, birth_data  \n",
    "\n",
    "birth_data = read_csv('us_births.csv')\n",
    "\n",
    "def total_births_by_key(hkey, birth_data):\n",
    "    monthly_births = {}\n",
    "    headers = birth_data[0]\n",
    "    births = birth_data[1]\n",
    "    for each_row in births:\n",
    "        try:\n",
    "            monthly_births[each_row[headers[hkey]]]\n",
    "        except KeyError:\n",
    "            monthly_births[each_row[headers[hkey]]] = each_row[headers['births']]\n",
    "        else:\n",
    "            monthly_births[each_row[headers[hkey]]] += each_row[headers['births']]\n",
    "            \n",
    "    for key, value in monthly_births.items():\n",
    "        print(\"{}[{}]:{}\".format(hkey, key, value))\n",
    "\n",
    "total_births_by_key('month', birth_data)        "
   ]
  },
  {
   "cell_type": "markdown",
   "metadata": {},
   "source": [
    "### Assignment\n",
    "\n",
    "- Create a function that calculates the number of births each day of the week"
   ]
  },
  {
   "cell_type": "code",
   "execution_count": 36,
   "metadata": {},
   "outputs": [
    {
     "name": "stdout",
     "output_type": "stream",
     "text": [
      "day_of_week[1]:5789166\n",
      "day_of_week[2]:6446196\n",
      "day_of_week[3]:6322855\n",
      "day_of_week[4]:6288429\n",
      "day_of_week[5]:6233657\n",
      "day_of_week[6]:4562111\n",
      "day_of_week[7]:4079723\n"
     ]
    }
   ],
   "source": [
    "total_births_by_key('day_of_week', birth_data)  "
   ]
  },
  {
   "cell_type": "markdown",
   "metadata": {},
   "source": [
    "### Assignment\n",
    "\n",
    "- Create a general function that takes the data list of lists and a column index, it should return a dictionary mapping of the unique keys and summed values"
   ]
  },
  {
   "cell_type": "code",
   "execution_count": 35,
   "metadata": {},
   "outputs": [
    {
     "name": "stdout",
     "output_type": "stream",
     "text": [
      "month[1]:3232517\n",
      "month[2]:3018140\n",
      "month[3]:3322069\n",
      "month[4]:3185314\n",
      "month[5]:3350907\n",
      "month[6]:3296530\n",
      "month[7]:3498783\n",
      "month[8]:3525858\n",
      "month[9]:3439698\n",
      "month[10]:3378814\n",
      "month[11]:3171647\n",
      "month[12]:3301860\n"
     ]
    }
   ],
   "source": [
    "import csv\n",
    "\n",
    "def read_csv(filename):\n",
    "    with open(filename, 'r') as csvfile:\n",
    "        births_data_raw = csv.reader(csvfile, delimiter=' ')\n",
    "        birth_data = list()\n",
    "        headers = {}\n",
    "        for i, each_row in enumerate(births_data_raw):\n",
    "            # field names ignored\n",
    "            if i == 0:\n",
    "                headers_keys = each_row[0].split(',')\n",
    "                for index, key in enumerate(headers_keys):\n",
    "                    headers[key] = index\n",
    "                continue\n",
    "            each_row_str = each_row[0]\n",
    "            row_data = [int(x) for x in each_row_str.split(',')]\n",
    "            birth_data.append(row_data)\n",
    "        for i, data in enumerate(birth_data):\n",
    "            if i == 10:\n",
    "                break\n",
    "        return headers, birth_data  \n",
    "\n",
    "birth_data = read_csv('us_births.csv')\n",
    "\n",
    "def total_births_by_key(hkey, birth_data):\n",
    "    monthly_births = {}\n",
    "    headers = birth_data[0]\n",
    "    births = birth_data[1]\n",
    "    for each_row in births:\n",
    "        try:\n",
    "            monthly_births[each_row[headers[hkey]]]\n",
    "        except KeyError:\n",
    "            monthly_births[each_row[headers[hkey]]] = each_row[headers['births']]\n",
    "        else:\n",
    "            monthly_births[each_row[headers[hkey]]] += each_row[headers['births']]\n",
    "            \n",
    "    for key, value in monthly_births.items():\n",
    "        print(\"{}[{}]:{}\".format(hkey, key, value))\n",
    "\n",
    "total_births_by_key('month', birth_data)        "
   ]
  }
 ],
 "metadata": {
  "anaconda-cloud": {},
  "kernelspec": {
   "display_name": "Python 3",
   "language": "python",
   "name": "python3"
  },
  "language_info": {
   "codemirror_mode": {
    "name": "ipython",
    "version": 3
   },
   "file_extension": ".py",
   "mimetype": "text/x-python",
   "name": "python",
   "nbconvert_exporter": "python",
   "pygments_lexer": "ipython3",
   "version": "3.5.3"
  }
 },
 "nbformat": 4,
 "nbformat_minor": 1
}
